{
 "cells": [
  {
   "cell_type": "code",
   "execution_count": 8,
   "metadata": {},
   "outputs": [
    {
     "name": "stdout",
     "output_type": "stream",
     "text": [
      "[['11111', 'abacus'], ['11112', 'abdomen'], ['11113', 'abdominal'], ['11114', 'abide'], ['11115', 'abiding'], ['11116', 'ability'], ['11121', 'ablaze'], ['11122', 'able'], ['11123', 'abnormal'], ['11124', 'abrasion']]\n"
     ]
    }
   ],
   "source": [
    "import numpy as np\n",
    "\n",
    "lines = np.loadtxt('eff_large_wordlist.txt', dtype=str).tolist()\n",
    "print(lines[:10])"
   ]
  },
  {
   "cell_type": "code",
   "execution_count": 19,
   "metadata": {},
   "outputs": [
    {
     "name": "stdout",
     "output_type": "stream",
     "text": [
      "{'11111': 'abacus', '11112': 'abdomen', '11113': 'abdominal', '11114': 'abide', '11115': 'abiding'}\n"
     ]
    }
   ],
   "source": [
    "words = {line[0]:line[1] for line in lines}\n",
    "print(dict(list(words.items())[:5]))"
   ]
  },
  {
   "cell_type": "code",
   "execution_count": 29,
   "metadata": {},
   "outputs": [
    {
     "name": "stdout",
     "output_type": "stream",
     "text": [
      "3\n",
      "5\n",
      "3\n",
      "3\n",
      "1\n"
     ]
    }
   ],
   "source": [
    "from random import randint\n",
    "\n",
    "\n",
    "for n in range(5):\n",
    "    print(randint(1,6))"
   ]
  },
  {
   "cell_type": "code",
   "execution_count": 42,
   "metadata": {},
   "outputs": [
    {
     "name": "stdout",
     "output_type": "stream",
     "text": [
      "Here are five example passphrases:\n",
      "\n",
      "graph turbulent transport greedless impish subdued \n",
      "\n",
      "playback untagged predator gear halt ogle \n",
      "\n",
      "banister handwrite evergreen hankering growing operation \n",
      "\n",
      "landowner curable fragrant deport gnarly bakeshop \n",
      "\n",
      "anaerobic speller movie sediment bunch retouch \n",
      "\n"
     ]
    }
   ],
   "source": [
    "from random import randint\n",
    "\n",
    "def dice_passphrase():\n",
    "    '''Generates a secure and memorable passphrase.'''\n",
    "    passphrase = ''\n",
    "    for n in range(6):\n",
    "        dig_list = [str(randint(1, 6)) for n in range(5)]\n",
    "        key = ''.join(dig_list)\n",
    "        passphrase += f'{words[key]} '\n",
    "    return passphrase\n",
    "   \n",
    "print('Here are five example passphrases:\\n')\n",
    "for n in range(5):\n",
    "    print(dice_passphrase() + '\\n')"
   ]
  },
  {
   "cell_type": "markdown",
   "metadata": {},
   "source": [
    "Helpful links:\n",
    "- https://www.eff.org/dice\n",
    "- http://world.std.com/~reinhold/diceware.html\n",
    "- https://www.eff.org/deeplinks/2016/07/new-wordlists-random-passphrases"
   ]
  }
 ],
 "metadata": {
  "kernelspec": {
   "display_name": "Python 3",
   "language": "python",
   "name": "python3"
  },
  "language_info": {
   "codemirror_mode": {
    "name": "ipython",
    "version": 3
   },
   "file_extension": ".py",
   "mimetype": "text/x-python",
   "name": "python",
   "nbconvert_exporter": "python",
   "pygments_lexer": "ipython3",
   "version": "3.8.3"
  }
 },
 "nbformat": 4,
 "nbformat_minor": 4
}
